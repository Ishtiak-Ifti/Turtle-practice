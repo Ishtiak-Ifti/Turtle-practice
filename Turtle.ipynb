{
  "nbformat": 4,
  "nbformat_minor": 0,
  "metadata": {
    "colab": {
      "name": "Turtle.ipynb",
      "provenance": [],
      "include_colab_link": true
    },
    "kernelspec": {
      "name": "python3",
      "display_name": "Python 3"
    }
  },
  "cells": [
    {
      "cell_type": "markdown",
      "metadata": {
        "id": "view-in-github",
        "colab_type": "text"
      },
      "source": [
        "<a href=\"https://colab.research.google.com/github/Ishtiak-Ifti/Turtle-practice/blob/main/Turtle.ipynb\" target=\"_parent\"><img src=\"https://colab.research.google.com/assets/colab-badge.svg\" alt=\"Open In Colab\"/></a>"
      ]
    },
    {
      "cell_type": "code",
      "metadata": {
        "id": "2ISLuNPF2LKE",
        "colab": {
          "base_uri": "https://localhost:8080/",
          "height": 615
        },
        "outputId": "bce3651f-f5f3-4e94-f7c4-a72d32902386"
      },
      "source": [
        "!pip3 install ColabTurtle\n",
        "from ColabTurtle.Turtle import *\n",
        "initializeTurtle(initial_window_size =(400, 400), initial_speed = 1)\n",
        "\n",
        "color(\"blue\")\n",
        "bgcolor(\"lightblue\")\n",
        "\n",
        "penup()\n",
        "width(5)\n",
        "setpos(100, 200)\n",
        "setheading(0)\n",
        "pendown()\n",
        "forward(200)\n"
      ],
      "execution_count": 6,
      "outputs": [
        {
          "output_type": "stream",
          "name": "stdout",
          "text": [
            "Collecting ColabTurtle\n",
            "  Downloading ColabTurtle-2.1.0.tar.gz (6.8 kB)\n",
            "  Preparing metadata (setup.py) ... \u001b[?25l\u001b[?25hdone\n",
            "Building wheels for collected packages: ColabTurtle\n",
            "  Building wheel for ColabTurtle (setup.py) ... \u001b[?25l\u001b[?25hdone\n",
            "  Created wheel for ColabTurtle: filename=ColabTurtle-2.1.0-py3-none-any.whl size=7642 sha256=5e3ee580766d6fc66cbfee0d5c44efa62da6ad4af0fe83c0d4b5550968d0c245\n",
            "  Stored in directory: /root/.cache/pip/wheels/f6/9e/81/137e7da25129474562d30f8660be599e5c8d79228cb747e5b9\n",
            "Successfully built ColabTurtle\n",
            "Installing collected packages: ColabTurtle\n",
            "Successfully installed ColabTurtle-2.1.0\n"
          ]
        },
        {
          "output_type": "display_data",
          "data": {
            "text/plain": [
              "<IPython.core.display.HTML object>"
            ],
            "text/html": [
              "\n",
              "      <svg width=\"400\" height=\"400\">\n",
              "        <rect width=\"100%\" height=\"100%\" fill=\"lightblue\"/>\n",
              "        <line x1=\"100\" y1=\"200\" x2=\"300.0\" y2=\"200.0\" stroke-linecap=\"round\" style=\"stroke:blue;stroke-width:5\"/>\n",
              "        <g visibility=visible transform=\"rotate(90,300.0,200.0) translate(282.0, 182.0)\">\n",
              "<path style=\" stroke:none;fill-rule:evenodd;fill:blue;fill-opacity:1;\" d=\"M 18.214844 0.632812 C 16.109375 1.800781 15.011719 4.074219 15.074219 7.132812 L 15.085938 7.652344 L 14.785156 7.496094 C 13.476562 6.824219 11.957031 6.671875 10.40625 7.066406 C 8.46875 7.550781 6.515625 9.15625 4.394531 11.992188 C 3.0625 13.777344 2.679688 14.636719 3.042969 15.027344 L 3.15625 15.152344 L 3.519531 15.152344 C 4.238281 15.152344 4.828125 14.886719 8.1875 13.039062 C 9.386719 12.378906 10.371094 11.839844 10.378906 11.839844 C 10.386719 11.839844 10.355469 11.929688 10.304688 12.035156 C 9.832031 13.09375 9.257812 14.820312 8.96875 16.078125 C 7.914062 20.652344 8.617188 24.53125 11.070312 27.660156 C 11.351562 28.015625 11.363281 27.914062 10.972656 28.382812 C 8.925781 30.84375 7.945312 33.28125 8.238281 35.1875 C 8.289062 35.527344 8.28125 35.523438 8.917969 35.523438 C 10.941406 35.523438 13.074219 34.207031 15.136719 31.6875 C 15.359375 31.417969 15.328125 31.425781 15.5625 31.574219 C 16.292969 32.042969 18.023438 32.964844 18.175781 32.964844 C 18.335938 32.964844 19.941406 32.210938 20.828125 31.71875 C 20.996094 31.625 21.136719 31.554688 21.136719 31.558594 C 21.203125 31.664062 21.898438 32.414062 22.222656 32.730469 C 23.835938 34.300781 25.5625 35.132812 27.582031 35.300781 C 27.90625 35.328125 27.9375 35.308594 28.007812 34.984375 C 28.382812 33.242188 27.625 30.925781 25.863281 28.425781 L 25.542969 27.96875 L 25.699219 27.785156 C 28.945312 23.960938 29.132812 18.699219 26.257812 11.96875 L 26.207031 11.84375 L 27.945312 12.703125 C 31.53125 14.476562 32.316406 14.800781 33.03125 14.800781 C 33.976562 14.800781 33.78125 13.9375 32.472656 12.292969 C 28.519531 7.355469 25.394531 5.925781 21.921875 7.472656 L 21.558594 7.636719 L 21.578125 7.542969 C 21.699219 6.992188 21.761719 5.742188 21.699219 5.164062 C 21.496094 3.296875 20.664062 1.964844 19.003906 0.855469 C 18.480469 0.503906 18.457031 0.5 18.214844 0.632812\"/>\n",
              "</g>\n",
              "      </svg>\n",
              "    "
            ]
          },
          "metadata": {}
        }
      ]
    },
    {
      "cell_type": "markdown",
      "metadata": {
        "id": "uWENJXy0-fkU"
      },
      "source": [
        "<br/><br/>\n",
        "The `initializeTurtle()` function call will create a turtle for us!\n",
        "\n",
        "If you already have a turtle, the `intializeTurtle()` function will erase your turtle's history so that you can start over."
      ]
    },
    {
      "cell_type": "code",
      "metadata": {
        "id": "fZ4V9cYZuYJy",
        "colab": {
          "base_uri": "https://localhost:8080/",
          "height": 421
        },
        "outputId": "3168a51f-3a3d-4bd7-eba8-7d0670b0f20a"
      },
      "source": [
        "initializeTurtle(initial_window_size=(400, 400), initial_speed=1)\n",
        "\n",
        "bgcolor('lightcyan')\n",
        "\n",
        "color('blue')\n",
        "shape('turtle')\n",
        "width(5)\n",
        "penup()\n",
        "setpos(100,100)   # x=100, y=100 に移動する　（ペンをあげたまま）\n",
        "setheading(0)     # （時計の）3時の方向を向く（０度の方向）\n",
        "pendown()         # ペンを下ろして\n",
        "forward(200)\n",
        "\n",
        "color('red')\n",
        "shape('circle')\n",
        "width(5)\n",
        "penup()\n",
        "setpos(100,200)   # x=100, y=200 に移動する　（ペンをあげたまま）\n",
        "setheading(0)     # （時計の）3時の方向を向く（０度の方向）\n",
        "pendown()         # ペンを下ろして\n",
        "forward(200)\n"
      ],
      "execution_count": 7,
      "outputs": [
        {
          "output_type": "display_data",
          "data": {
            "text/plain": [
              "<IPython.core.display.HTML object>"
            ],
            "text/html": [
              "\n",
              "      <svg width=\"400\" height=\"400\">\n",
              "        <rect width=\"100%\" height=\"100%\" fill=\"lightcyan\"/>\n",
              "        <line x1=\"100\" y1=\"100\" x2=\"300.0\" y2=\"100.0\" stroke-linecap=\"round\" style=\"stroke:blue;stroke-width:5\"/><line x1=\"100\" y1=\"200\" x2=\"300.0\" y2=\"200.0\" stroke-linecap=\"round\" style=\"stroke:red;stroke-width:5\"/>\n",
              "        \n",
              "      <g visibility=visible transform=\"rotate(-90,300.0,200.0) translate(300.0, 200.0)\">\n",
              "        <circle stroke=\"red\" stroke-width=\"3\" fill=\"transparent\" r=\"12\" cx=\"0\" cy=\"0\"/>\n",
              "        <polygon points=\"0,19 3,16 -3,16\" style=\"fill:red;stroke:red;stroke-width:2\"/>\n",
              "      </g>\n",
              "    \n",
              "      </svg>\n",
              "    "
            ]
          },
          "metadata": {}
        }
      ]
    },
    {
      "cell_type": "markdown",
      "metadata": {
        "id": "nOSrhhuI-v6N"
      },
      "source": [
        "<br/><br/>\n",
        "Next, we're going to learn about *for loops*. For loops are super important in computer science. They tell the computer to repeat something *for* a certain number of times.\n",
        "\n",
        "Below is an example for loop. What do you think it does? Run the cell to find out! You can change `10` or `hi` if you want (but if you change `hi` make sure that you keep the quotation marks around whatever you type instead!).\n"
      ]
    },
    {
      "cell_type": "code",
      "metadata": {
        "id": "K3aMDAzXAAjV"
      },
      "source": [
        "for i in range(10):\n",
        "  print(\"hi\")"
      ],
      "execution_count": null,
      "outputs": []
    },
    {
      "cell_type": "markdown",
      "metadata": {
        "id": "QFdlSukoAE7l"
      },
      "source": [
        "<br/><br/>\n",
        "Now that we know about for loops, we're going to see how to use a for loop to draw a square with our turtle.\n",
        "\n",
        "What shape do you think this for loop will draw? Can you change the numbers to draw a different shape?"
      ]
    },
    {
      "cell_type": "code",
      "metadata": {
        "id": "ssD7GteDVvTO"
      },
      "source": [
        "side_length = 100\n",
        "angle = 360/4\n",
        "\n",
        "for i in range(4):\n",
        "  forward(side_length)\n",
        "  right(angle)"
      ],
      "execution_count": null,
      "outputs": []
    },
    {
      "cell_type": "markdown",
      "metadata": {
        "id": "y3V3jYm8ATjr"
      },
      "source": [
        "<br/><br/>\n",
        "This is *almost* the same for loop that we saw above. Now we have this new line that says `num_sides = 0`. Change the `num_sides` variable from `0` to whatever number of sides you want your shape to have.\n",
        "\n",
        "Can you change the code so that it uses the `num_sides` variable to draw your shape?"
      ]
    },
    {
      "cell_type": "code",
      "metadata": {
        "id": "7D52X8JNAt6c"
      },
      "source": [
        "side_length = 100\n",
        "angle = 360/4\n",
        "num_sides = 0\n",
        "\n",
        "for i in range(4):\n",
        "  forward(side_length)\n",
        "  right(angle)"
      ],
      "execution_count": null,
      "outputs": []
    }
  ]
}