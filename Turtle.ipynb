{
  "nbformat": 4,
  "nbformat_minor": 0,
  "metadata": {
    "colab": {
      "name": "Turtle.ipynb",
      "provenance": [],
      "include_colab_link": true
    },
    "kernelspec": {
      "name": "python3",
      "display_name": "Python 3"
    }
  },
  "cells": [
    {
      "cell_type": "markdown",
      "metadata": {
        "id": "view-in-github",
        "colab_type": "text"
      },
      "source": [
        "<a href=\"https://colab.research.google.com/github/Ishtiak-Ifti/Turtle-practice/blob/main/Turtle.ipynb\" target=\"_parent\"><img src=\"https://colab.research.google.com/assets/colab-badge.svg\" alt=\"Open In Colab\"/></a>"
      ]
    },
    {
      "cell_type": "code",
      "metadata": {
        "id": "2ISLuNPF2LKE",
        "colab": {
          "base_uri": "https://localhost:8080/"
        },
        "outputId": "7cf18acc-025f-4bf0-c409-fb65db85839a"
      },
      "source": [
        "!pip3 install ColabTurtle\n",
        "from ColabTurtle.Turtle import *"
      ],
      "execution_count": null,
      "outputs": [
        {
          "output_type": "stream",
          "name": "stdout",
          "text": [
            "Collecting ColabTurtle\n",
            "  Downloading ColabTurtle-2.1.0.tar.gz (6.8 kB)\n",
            "  Preparing metadata (setup.py) ... \u001b[?25l\u001b[?25hdone\n",
            "Building wheels for collected packages: ColabTurtle\n",
            "  Building wheel for ColabTurtle (setup.py) ... \u001b[?25l\u001b[?25hdone\n",
            "  Created wheel for ColabTurtle: filename=ColabTurtle-2.1.0-py3-none-any.whl size=7642 sha256=65284e031456d0a2c5034778a9cef0ba664836adfae10e1a0917d48a5d4beeb5\n",
            "  Stored in directory: /root/.cache/pip/wheels/f6/9e/81/137e7da25129474562d30f8660be599e5c8d79228cb747e5b9\n",
            "Successfully built ColabTurtle\n",
            "Installing collected packages: ColabTurtle\n",
            "Successfully installed ColabTurtle-2.1.0\n"
          ]
        }
      ]
    },
    {
      "cell_type": "code",
      "source": [],
      "metadata": {
        "id": "hNVs5lLsNkHE"
      },
      "execution_count": null,
      "outputs": []
    },
    {
      "cell_type": "code",
      "source": [
        "turtle_color = ['blue', 'red', 'green', 'violet', 'magenta',\n",
        "                'yellow', 'pink']\n",
        "print (turtle_color)\n",
        "\n",
        "# turtle graphics\n",
        "\n",
        "initializeTurtle(initial_window_size=(400, 400), initial_speed=1)\n",
        "\n",
        "bgcolor('lightcyan')\n",
        "\n",
        "color(turtle_color[0])\n",
        "width(5)\n",
        "penup()\n",
        "setpos(20,200)   # x=20, y=100 に移動する　（ペンをあげたまま）\n",
        "setheading(0)     # （時計の）3時の方向を向く（０度の方向）\n",
        "pendown()         # ペンを下ろして\n",
        "forward(50)\n",
        "\n",
        "color(turtle_color[1])\n",
        "width(10)\n",
        "forward(50)\n",
        "\n",
        "color(turtle_color[2])\n",
        "width(15)\n",
        "forward(50)\n",
        "\n",
        "color(turtle_color[3])\n",
        "width(20)\n",
        "forward(50)\n",
        "\n",
        "color(turtle_color[4])\n",
        "width(25)\n",
        "forward(50)\n",
        "\n",
        "color(turtle_color[5])\n",
        "width(30)\n",
        "forward(50)\n",
        "\n",
        "color(turtle_color[6])\n",
        "width(35)\n",
        "forward(50)\n",
        "\n",
        "penup()\n",
        "setpos(200,100)"
      ],
      "metadata": {
        "colab": {
          "base_uri": "https://localhost:8080/",
          "height": 439
        },
        "id": "g8D-bmH2bBJQ",
        "outputId": "8e715c5a-743a-4a34-b119-d565d9d97ff8"
      },
      "execution_count": null,
      "outputs": [
        {
          "output_type": "stream",
          "name": "stdout",
          "text": [
            "['blue', 'red', 'green', 'violet', 'magenta', 'yellow', 'pink']\n"
          ]
        },
        {
          "output_type": "display_data",
          "data": {
            "text/plain": [
              "<IPython.core.display.HTML object>"
            ],
            "text/html": [
              "\n",
              "      <svg width=\"400\" height=\"400\">\n",
              "        <rect width=\"100%\" height=\"100%\" fill=\"lightcyan\"/>\n",
              "        <line x1=\"20\" y1=\"200\" x2=\"70.0\" y2=\"200.0\" stroke-linecap=\"round\" style=\"stroke:blue;stroke-width:5\"/><line x1=\"70.0\" y1=\"200.0\" x2=\"120.0\" y2=\"200.0\" stroke-linecap=\"round\" style=\"stroke:red;stroke-width:10\"/><line x1=\"120.0\" y1=\"200.0\" x2=\"170.0\" y2=\"200.0\" stroke-linecap=\"round\" style=\"stroke:green;stroke-width:15\"/><line x1=\"170.0\" y1=\"200.0\" x2=\"220.0\" y2=\"200.0\" stroke-linecap=\"round\" style=\"stroke:violet;stroke-width:20\"/><line x1=\"220.0\" y1=\"200.0\" x2=\"270.0\" y2=\"200.0\" stroke-linecap=\"round\" style=\"stroke:magenta;stroke-width:25\"/><line x1=\"270.0\" y1=\"200.0\" x2=\"320.0\" y2=\"200.0\" stroke-linecap=\"round\" style=\"stroke:yellow;stroke-width:30\"/><line x1=\"320.0\" y1=\"200.0\" x2=\"370.0\" y2=\"200.0\" stroke-linecap=\"round\" style=\"stroke:pink;stroke-width:35\"/>\n",
              "        <g visibility=visible transform=\"rotate(90,200,100) translate(182, 82)\">\n",
              "<path style=\" stroke:none;fill-rule:evenodd;fill:pink;fill-opacity:1;\" d=\"M 18.214844 0.632812 C 16.109375 1.800781 15.011719 4.074219 15.074219 7.132812 L 15.085938 7.652344 L 14.785156 7.496094 C 13.476562 6.824219 11.957031 6.671875 10.40625 7.066406 C 8.46875 7.550781 6.515625 9.15625 4.394531 11.992188 C 3.0625 13.777344 2.679688 14.636719 3.042969 15.027344 L 3.15625 15.152344 L 3.519531 15.152344 C 4.238281 15.152344 4.828125 14.886719 8.1875 13.039062 C 9.386719 12.378906 10.371094 11.839844 10.378906 11.839844 C 10.386719 11.839844 10.355469 11.929688 10.304688 12.035156 C 9.832031 13.09375 9.257812 14.820312 8.96875 16.078125 C 7.914062 20.652344 8.617188 24.53125 11.070312 27.660156 C 11.351562 28.015625 11.363281 27.914062 10.972656 28.382812 C 8.925781 30.84375 7.945312 33.28125 8.238281 35.1875 C 8.289062 35.527344 8.28125 35.523438 8.917969 35.523438 C 10.941406 35.523438 13.074219 34.207031 15.136719 31.6875 C 15.359375 31.417969 15.328125 31.425781 15.5625 31.574219 C 16.292969 32.042969 18.023438 32.964844 18.175781 32.964844 C 18.335938 32.964844 19.941406 32.210938 20.828125 31.71875 C 20.996094 31.625 21.136719 31.554688 21.136719 31.558594 C 21.203125 31.664062 21.898438 32.414062 22.222656 32.730469 C 23.835938 34.300781 25.5625 35.132812 27.582031 35.300781 C 27.90625 35.328125 27.9375 35.308594 28.007812 34.984375 C 28.382812 33.242188 27.625 30.925781 25.863281 28.425781 L 25.542969 27.96875 L 25.699219 27.785156 C 28.945312 23.960938 29.132812 18.699219 26.257812 11.96875 L 26.207031 11.84375 L 27.945312 12.703125 C 31.53125 14.476562 32.316406 14.800781 33.03125 14.800781 C 33.976562 14.800781 33.78125 13.9375 32.472656 12.292969 C 28.519531 7.355469 25.394531 5.925781 21.921875 7.472656 L 21.558594 7.636719 L 21.578125 7.542969 C 21.699219 6.992188 21.761719 5.742188 21.699219 5.164062 C 21.496094 3.296875 20.664062 1.964844 19.003906 0.855469 C 18.480469 0.503906 18.457031 0.5 18.214844 0.632812\"/>\n",
              "</g>\n",
              "      </svg>\n",
              "    "
            ]
          },
          "metadata": {}
        }
      ]
    },
    {
      "cell_type": "code",
      "source": [
        "# リストの利用\n",
        "turtle_color = ['blue', 'red', 'green', 'violet', 'magenta',\n",
        "                'yellow', 'pink']\n",
        "print (turtle_color)\n",
        "\n",
        "# turtle graphics\n",
        "initializeTurtle(initial_window_size=(400, 400), initial_speed=1)\n",
        "bgcolor('lightcyan')\n",
        "\n",
        "penup()\n",
        "setpos(20,200)   # x=20, y=100 に移動する　（ペンをあげたまま）\n",
        "setheading(0)     # （時計の）3時の方向を向く（０度の方向）\n",
        "pendown()         # ペンを下ろして\n",
        "for jc in range(7):\n",
        "    color(turtle_color[jc])\n",
        "    width(5+jc*5)\n",
        "    forward(50)\n",
        "\n",
        "penup()\n",
        "setpos(200,100)"
      ],
      "metadata": {
        "colab": {
          "base_uri": "https://localhost:8080/",
          "height": 439
        },
        "id": "MdpzXrxfi8vn",
        "outputId": "e5402203-5174-410d-a90b-7feef9553d3e"
      },
      "execution_count": null,
      "outputs": [
        {
          "output_type": "stream",
          "name": "stdout",
          "text": [
            "['blue', 'red', 'green', 'violet', 'magenta', 'yellow', 'pink']\n"
          ]
        },
        {
          "output_type": "display_data",
          "data": {
            "text/plain": [
              "<IPython.core.display.HTML object>"
            ],
            "text/html": [
              "\n",
              "      <svg width=\"400\" height=\"400\">\n",
              "        <rect width=\"100%\" height=\"100%\" fill=\"lightcyan\"/>\n",
              "        <line x1=\"20\" y1=\"200\" x2=\"70.0\" y2=\"200.0\" stroke-linecap=\"round\" style=\"stroke:blue;stroke-width:5\"/><line x1=\"70.0\" y1=\"200.0\" x2=\"120.0\" y2=\"200.0\" stroke-linecap=\"round\" style=\"stroke:red;stroke-width:10\"/><line x1=\"120.0\" y1=\"200.0\" x2=\"170.0\" y2=\"200.0\" stroke-linecap=\"round\" style=\"stroke:green;stroke-width:15\"/><line x1=\"170.0\" y1=\"200.0\" x2=\"220.0\" y2=\"200.0\" stroke-linecap=\"round\" style=\"stroke:violet;stroke-width:20\"/><line x1=\"220.0\" y1=\"200.0\" x2=\"270.0\" y2=\"200.0\" stroke-linecap=\"round\" style=\"stroke:magenta;stroke-width:25\"/><line x1=\"270.0\" y1=\"200.0\" x2=\"320.0\" y2=\"200.0\" stroke-linecap=\"round\" style=\"stroke:yellow;stroke-width:30\"/><line x1=\"320.0\" y1=\"200.0\" x2=\"370.0\" y2=\"200.0\" stroke-linecap=\"round\" style=\"stroke:pink;stroke-width:35\"/>\n",
              "        <g visibility=visible transform=\"rotate(90,200,100) translate(182, 82)\">\n",
              "<path style=\" stroke:none;fill-rule:evenodd;fill:pink;fill-opacity:1;\" d=\"M 18.214844 0.632812 C 16.109375 1.800781 15.011719 4.074219 15.074219 7.132812 L 15.085938 7.652344 L 14.785156 7.496094 C 13.476562 6.824219 11.957031 6.671875 10.40625 7.066406 C 8.46875 7.550781 6.515625 9.15625 4.394531 11.992188 C 3.0625 13.777344 2.679688 14.636719 3.042969 15.027344 L 3.15625 15.152344 L 3.519531 15.152344 C 4.238281 15.152344 4.828125 14.886719 8.1875 13.039062 C 9.386719 12.378906 10.371094 11.839844 10.378906 11.839844 C 10.386719 11.839844 10.355469 11.929688 10.304688 12.035156 C 9.832031 13.09375 9.257812 14.820312 8.96875 16.078125 C 7.914062 20.652344 8.617188 24.53125 11.070312 27.660156 C 11.351562 28.015625 11.363281 27.914062 10.972656 28.382812 C 8.925781 30.84375 7.945312 33.28125 8.238281 35.1875 C 8.289062 35.527344 8.28125 35.523438 8.917969 35.523438 C 10.941406 35.523438 13.074219 34.207031 15.136719 31.6875 C 15.359375 31.417969 15.328125 31.425781 15.5625 31.574219 C 16.292969 32.042969 18.023438 32.964844 18.175781 32.964844 C 18.335938 32.964844 19.941406 32.210938 20.828125 31.71875 C 20.996094 31.625 21.136719 31.554688 21.136719 31.558594 C 21.203125 31.664062 21.898438 32.414062 22.222656 32.730469 C 23.835938 34.300781 25.5625 35.132812 27.582031 35.300781 C 27.90625 35.328125 27.9375 35.308594 28.007812 34.984375 C 28.382812 33.242188 27.625 30.925781 25.863281 28.425781 L 25.542969 27.96875 L 25.699219 27.785156 C 28.945312 23.960938 29.132812 18.699219 26.257812 11.96875 L 26.207031 11.84375 L 27.945312 12.703125 C 31.53125 14.476562 32.316406 14.800781 33.03125 14.800781 C 33.976562 14.800781 33.78125 13.9375 32.472656 12.292969 C 28.519531 7.355469 25.394531 5.925781 21.921875 7.472656 L 21.558594 7.636719 L 21.578125 7.542969 C 21.699219 6.992188 21.761719 5.742188 21.699219 5.164062 C 21.496094 3.296875 20.664062 1.964844 19.003906 0.855469 C 18.480469 0.503906 18.457031 0.5 18.214844 0.632812\"/>\n",
              "</g>\n",
              "      </svg>\n",
              "    "
            ]
          },
          "metadata": {}
        }
      ]
    },
    {
      "cell_type": "code",
      "source": [
        "# リストの利用\n",
        "turtle_color = ['blue', 'red', 'green', 'violet', 'magenta',\n",
        "                'yellow', 'pink']\n",
        "print (turtle_color)\n",
        "\n",
        "# turtle graphics\n",
        "initializeTurtle(initial_window_size=(400, 400), initial_speed=1)\n",
        "bgcolor('lightcyan')\n",
        "\n",
        "width(100)\n",
        "for jc in range(7):\n",
        "    color(turtle_color[jc])\n",
        "\n",
        "    penup()\n",
        "    setpos(100+jc*30,200)   # x=100+jc*30, y=100 に移動する　（ペンをあげたまま）\n",
        "    setheading(0)     # （時計の）3時の方向を向く（０度の方向）\n",
        "    pendown()         # ペンを下ろして\n",
        "    setpos(100+jc*30,200)\n",
        "\n",
        "penup()\n",
        "setpos(200,100)\n"
      ],
      "metadata": {
        "id": "pKoqu4adl8KF",
        "outputId": "c8b2d0b2-a214-484a-b801-793f14a6b2a9",
        "colab": {
          "base_uri": "https://localhost:8080/",
          "height": 439
        }
      },
      "execution_count": null,
      "outputs": [
        {
          "output_type": "stream",
          "name": "stdout",
          "text": [
            "['blue', 'red', 'green', 'violet', 'magenta', 'yellow', 'pink']\n"
          ]
        },
        {
          "output_type": "display_data",
          "data": {
            "text/plain": [
              "<IPython.core.display.HTML object>"
            ],
            "text/html": [
              "\n",
              "      <svg width=\"400\" height=\"400\">\n",
              "        <rect width=\"100%\" height=\"100%\" fill=\"lightcyan\"/>\n",
              "        <line x1=\"100\" y1=\"200\" x2=\"100\" y2=\"200\" stroke-linecap=\"round\" style=\"stroke:blue;stroke-width:100\"/><line x1=\"130\" y1=\"200\" x2=\"130\" y2=\"200\" stroke-linecap=\"round\" style=\"stroke:red;stroke-width:100\"/><line x1=\"160\" y1=\"200\" x2=\"160\" y2=\"200\" stroke-linecap=\"round\" style=\"stroke:green;stroke-width:100\"/><line x1=\"190\" y1=\"200\" x2=\"190\" y2=\"200\" stroke-linecap=\"round\" style=\"stroke:violet;stroke-width:100\"/><line x1=\"220\" y1=\"200\" x2=\"220\" y2=\"200\" stroke-linecap=\"round\" style=\"stroke:magenta;stroke-width:100\"/><line x1=\"250\" y1=\"200\" x2=\"250\" y2=\"200\" stroke-linecap=\"round\" style=\"stroke:yellow;stroke-width:100\"/><line x1=\"280\" y1=\"200\" x2=\"280\" y2=\"200\" stroke-linecap=\"round\" style=\"stroke:pink;stroke-width:100\"/>\n",
              "        <g visibility=visible transform=\"rotate(90,200,100) translate(182, 82)\">\n",
              "<path style=\" stroke:none;fill-rule:evenodd;fill:pink;fill-opacity:1;\" d=\"M 18.214844 0.632812 C 16.109375 1.800781 15.011719 4.074219 15.074219 7.132812 L 15.085938 7.652344 L 14.785156 7.496094 C 13.476562 6.824219 11.957031 6.671875 10.40625 7.066406 C 8.46875 7.550781 6.515625 9.15625 4.394531 11.992188 C 3.0625 13.777344 2.679688 14.636719 3.042969 15.027344 L 3.15625 15.152344 L 3.519531 15.152344 C 4.238281 15.152344 4.828125 14.886719 8.1875 13.039062 C 9.386719 12.378906 10.371094 11.839844 10.378906 11.839844 C 10.386719 11.839844 10.355469 11.929688 10.304688 12.035156 C 9.832031 13.09375 9.257812 14.820312 8.96875 16.078125 C 7.914062 20.652344 8.617188 24.53125 11.070312 27.660156 C 11.351562 28.015625 11.363281 27.914062 10.972656 28.382812 C 8.925781 30.84375 7.945312 33.28125 8.238281 35.1875 C 8.289062 35.527344 8.28125 35.523438 8.917969 35.523438 C 10.941406 35.523438 13.074219 34.207031 15.136719 31.6875 C 15.359375 31.417969 15.328125 31.425781 15.5625 31.574219 C 16.292969 32.042969 18.023438 32.964844 18.175781 32.964844 C 18.335938 32.964844 19.941406 32.210938 20.828125 31.71875 C 20.996094 31.625 21.136719 31.554688 21.136719 31.558594 C 21.203125 31.664062 21.898438 32.414062 22.222656 32.730469 C 23.835938 34.300781 25.5625 35.132812 27.582031 35.300781 C 27.90625 35.328125 27.9375 35.308594 28.007812 34.984375 C 28.382812 33.242188 27.625 30.925781 25.863281 28.425781 L 25.542969 27.96875 L 25.699219 27.785156 C 28.945312 23.960938 29.132812 18.699219 26.257812 11.96875 L 26.207031 11.84375 L 27.945312 12.703125 C 31.53125 14.476562 32.316406 14.800781 33.03125 14.800781 C 33.976562 14.800781 33.78125 13.9375 32.472656 12.292969 C 28.519531 7.355469 25.394531 5.925781 21.921875 7.472656 L 21.558594 7.636719 L 21.578125 7.542969 C 21.699219 6.992188 21.761719 5.742188 21.699219 5.164062 C 21.496094 3.296875 20.664062 1.964844 19.003906 0.855469 C 18.480469 0.503906 18.457031 0.5 18.214844 0.632812\"/>\n",
              "</g>\n",
              "      </svg>\n",
              "    "
            ]
          },
          "metadata": {}
        }
      ]
    },
    {
      "cell_type": "code",
      "source": [],
      "metadata": {
        "id": "-nWyYsYjRDMH"
      },
      "execution_count": null,
      "outputs": []
    },
    {
      "cell_type": "markdown",
      "metadata": {
        "id": "uWENJXy0-fkU"
      },
      "source": [
        "<br/><br/>\n",
        "The `initializeTurtle()` function call will create a turtle for us!\n",
        "\n",
        "If you already have a turtle, the `intializeTurtle()` function will erase your turtle's history so that you can start over."
      ]
    },
    {
      "cell_type": "markdown",
      "metadata": {
        "id": "nOSrhhuI-v6N"
      },
      "source": [
        "<br/><br/>\n",
        "Next, we're going to learn about *for loops*. For loops are super important in computer science. They tell the computer to repeat something *for* a certain number of times.\n",
        "\n",
        "Below is an example for loop. What do you think it does? Run the cell to find out! You can change `10` or `hi` if you want (but if you change `hi` make sure that you keep the quotation marks around whatever you type instead!).\n"
      ]
    },
    {
      "cell_type": "markdown",
      "metadata": {
        "id": "QFdlSukoAE7l"
      },
      "source": [
        "<br/><br/>\n",
        "Now that we know about for loops, we're going to see how to use a for loop to draw a square with our turtle.\n",
        "\n",
        "What shape do you think this for loop will draw? Can you change the numbers to draw a different shape?"
      ]
    },
    {
      "cell_type": "code",
      "metadata": {
        "id": "ssD7GteDVvTO"
      },
      "source": [
        "side_length = 100\n",
        "angle = 360/4\n",
        "\n",
        "for i in range(4):\n",
        "  forward(side_length)\n",
        "  right(angle)"
      ],
      "execution_count": null,
      "outputs": []
    },
    {
      "cell_type": "markdown",
      "metadata": {
        "id": "y3V3jYm8ATjr"
      },
      "source": [
        "<br/><br/>\n",
        "This is *almost* the same for loop that we saw above. Now we have this new line that says `num_sides = 0`. Change the `num_sides` variable from `0` to whatever number of sides you want your shape to have.\n",
        "\n",
        "Can you change the code so that it uses the `num_sides` variable to draw your shape?"
      ]
    },
    {
      "cell_type": "code",
      "metadata": {
        "id": "7D52X8JNAt6c"
      },
      "source": [
        "side_length = 100\n",
        "angle = 360/4\n",
        "num_sides = 0\n",
        "\n",
        "for i in range(4):\n",
        "  forward(side_length)\n",
        "  right(angle)"
      ],
      "execution_count": null,
      "outputs": []
    }
  ]
}